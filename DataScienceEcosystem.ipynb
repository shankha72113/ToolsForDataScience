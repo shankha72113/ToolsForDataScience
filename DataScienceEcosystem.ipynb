{
  "metadata": {
    "kernelspec": {
      "name": "python",
      "display_name": "Python (Pyodide)",
      "language": "python"
    },
    "language_info": {
      "codemirror_mode": {
        "name": "python",
        "version": 3
      },
      "file_extension": ".py",
      "mimetype": "text/x-python",
      "name": "python",
      "nbconvert_exporter": "python",
      "pygments_lexer": "ipython3",
      "version": "3.8"
    }
  },
  "nbformat_minor": 5,
  "nbformat": 4,
  "cells": [
    {
      "id": "e40ec423-c838-4e5e-8d59-d404585b4f85",
      "cell_type": "markdown",
      "source": "# Data Science Tools and Ecosystem",
      "metadata": {}
    },
    {
      "id": "f6d70641-c076-497d-8bdd-37b66e5ba8e5",
      "cell_type": "markdown",
      "source": "**Objectives:**\n* List popular languages for Data Science\n* List commonly used libraries used by Data Scientists\n* Table of Open Source Data Scientists Development Environments\n* Some example evaluations of Python Expressions\n\n## Author\nShankha Das",
      "metadata": {}
    },
    {
      "id": "831e28cb-f5a3-41bf-995c-100be8c601a4",
      "cell_type": "markdown",
      "source": "#### In this notebook, Data Science Tools and Ecosystem are summarized.",
      "metadata": {}
    },
    {
      "id": "d88029de-ecef-48fd-a194-f67b63e3064e",
      "cell_type": "markdown",
      "source": "**Some of the popular languages that Data Scientists use are:**\n\n1. Python\n2. R\n3. Scala\n4. Java",
      "metadata": {
        "tags": [],
        "editable": true,
        "slideshow": {
          "slide_type": ""
        }
      }
    },
    {
      "id": "5a1aa5be-c960-46ad-bd90-e9690f4169c7",
      "cell_type": "markdown",
      "source": "**Some of the commonly used libraries used by Data Scientists include:**\n\n1. Numpy\n2. Pandas\n3. Matplotlib\n4. Scikit-learn\n5. PySpark",
      "metadata": {}
    },
    {
      "id": "1a4371db-8ddb-4906-9367-48238c4e68bd",
      "cell_type": "markdown",
      "source": " **Table of Data Science tools (development environment - Open Source Tools)**\n\n| Data Science Tools |\n|--------------------|     \n| JupyterLab |\n| RStudio |\n| Spyder |",
      "metadata": {}
    },
    {
      "id": "588c15dc-9410-4e15-ad5d-ba9394fa7b66",
      "cell_type": "markdown",
      "source": "### Below are a few examples of evaluating arithmetic expressions in Python.",
      "metadata": {}
    },
    {
      "id": "5e6fd61e-02d0-4185-bf29-5aab08fb5187",
      "cell_type": "code",
      "source": "# This a simple arithmetic expression to mutiply then add integers\n(3*4)+5",
      "metadata": {
        "trusted": true
      },
      "outputs": [
        {
          "execution_count": 2,
          "output_type": "execute_result",
          "data": {
            "text/plain": "17"
          },
          "metadata": {}
        }
      ],
      "execution_count": 2
    },
    {
      "id": "167b6bbc-4694-4b21-a233-3d5854a93c83",
      "cell_type": "code",
      "source": "# This will convert 200 minutes to hours by diving by 60\n# Entering the minutes value\nm=200\nh = round(m/60,2)\nprint(h)",
      "metadata": {
        "trusted": true
      },
      "outputs": [
        {
          "name": "stdout",
          "output_type": "stream",
          "text": "3.33\n"
        }
      ],
      "execution_count": 13
    }
  ]
}